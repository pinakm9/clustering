{
 "cells": [
  {
   "cell_type": "markdown",
   "metadata": {},
   "source": [
    "# Temporal Clusters in the rainfall data\n",
    "## Given the spatial distribution of rainfall over India is it possible tell when the data were observed?"
   ]
  },
  {
   "cell_type": "markdown",
   "metadata": {},
   "source": [
    "### Step - 1: Prepare the data to feed spectral clustering"
   ]
  },
  {
   "cell_type": "code",
   "execution_count": 20,
   "metadata": {},
   "outputs": [],
   "source": [
    "import numpy as np\n",
    "\n",
    "# set random seed\n",
    "np.random.seed(seed = 4200)\n",
    "\n",
    "# import data\n",
    "rain = np.load(\"../../data/rainfall/Rajeevan-1-degree-1901-2011-data-365-days.npy\")\n",
    "\n",
    "# pick a random year from the dataset\n",
    "random_year = np.random.randint(111)\n",
    "rain_ry = rain[random_year]\n",
    "idx=np.where(rain_ry<0.01)\n",
    "rain_ry[idx]=0.001\n",
    "\n",
    "\n",
    "# create a function to compute running mean\n",
    "def running_mean(x, N):\n",
    "    cumsum = np.cumsum(np.insert(x, 0, 0)) \n",
    "    return (cumsum[N:] - cumsum[:-N]) / float(N)\n",
    "\n",
    "# compute the weekly average\n",
    "num_days = 3\n",
    "rain_ry_avg = np.zeros((rain_ry.shape[0], rain_ry.shape[1] - num_days + 1))\n",
    "for loc in range(rain_ry.shape[0]):\n",
    "    rain_ry_avg[loc] = running_mean(rain_ry[loc,:], num_days) \n",
    "rain_ry_avg=np.log(rain_ry_avg)"
   ]
  },
  {
   "cell_type": "code",
   "execution_count": 21,
   "metadata": {},
   "outputs": [],
   "source": [
    "import matplotlib.pylab as plt\n",
    "#plt.plot(rain_ry_avg,'.')"
   ]
  },
  {
   "cell_type": "markdown",
   "metadata": {},
   "source": [
    "### Step - 2: Apply spectral clustering for (k = 2, 3, ..., 12)"
   ]
  },
  {
   "cell_type": "code",
   "execution_count": 27,
   "metadata": {},
   "outputs": [],
   "source": [
    "from sklearn.cluster import SpectralClustering, DBSCAN, KMeans\n",
    "\n",
    "#clusters = []\n",
    "#for k in range(2,3):\n",
    "#clusters = SpectralClustering(n_clusters = 2,random_state=0).fit(rain_ry_avg.T)\n",
    "#clusters = DBSCAN(eps = 50, min_samples = 100).fit(rain_ry_avg.T)\n",
    "clusters=KMeans(n_clusters=2,init='k-means++',max_iter=1000,n_init=3,random_state=0).fit(rain_ry_avg.T)"
   ]
  },
  {
   "cell_type": "code",
   "execution_count": 28,
   "metadata": {},
   "outputs": [
    {
     "data": {
      "text/plain": [
       "[<matplotlib.lines.Line2D at 0xe0f990>]"
      ]
     },
     "execution_count": 28,
     "metadata": {},
     "output_type": "execute_result"
    },
    {
     "data": {
      "image/png": "[encoded data removed]",
      "text/plain": [
       "<Figure size 432x288 with 1 Axes>"
      ]
     },
     "metadata": {
      "needs_background": "light"
     },
     "output_type": "display_data"
    }
   ],
   "source": [
    "plt.plot(clusters.labels_,'.')"
   ]
  },
  {
   "cell_type": "markdown",
   "metadata": {},
   "source": [
    "## Step - 3: Use elbow method to find the optimal number of clusters\n"
   ]
  },
  {
   "cell_type": "code",
   "execution_count": null,
   "metadata": {},
   "outputs": [],
   "source": []
  },
  {
   "cell_type": "markdown",
   "metadata": {},
   "source": [
    "### Step - 4: Can we tell if a certain day belonged to the monsoon period?"
   ]
  }
 ],
 "metadata": {
  "kernelspec": {
   "display_name": "Python 3",
   "language": "python",
   "name": "python3"
  },
  "language_info": {
   "codemirror_mode": {
    "name": "ipython",
    "version": 3
   },
   "file_extension": ".py",
   "mimetype": "text/x-python",
   "name": "python",
   "nbconvert_exporter": "python",
   "pygments_lexer": "ipython3",
   "version": "3.7.3"
  }
 },
 "nbformat": 4,
 "nbformat_minor": 4
}
